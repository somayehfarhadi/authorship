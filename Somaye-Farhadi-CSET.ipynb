{
 "cells": [
  {
   "cell_type": "markdown",
   "metadata": {},
   "source": [
    "###### Assignment for Georgetown CSET Data Scientist role\n",
    "# Somaye Farhadi"
   ]
  },
  {
   "cell_type": "markdown",
   "metadata": {},
   "source": [
    "__Interview - Data Scientist__\n",
    "\n",
    "Please process and analyze the following data and compose a data story for each of the following sections. A good balance of documented code, visualization, and clarifiying prose is desired. Please submit the completed project via email.\n",
    "\n",
    "__Semantic Scholar:__\n",
    "Semantic Scholar is a search service for academic journal articles with a search API. Semantic Scholar made available a subset of the full corpus as its Open Research Corpus.\n",
    "Requirements:\n",
    "\n",
    "__Author Graph:__\n",
    "Construct an author graph up to \"two-neighbors\" starting with publication ID 22720d75b8c73afd3bf4917fd5512dcc11e19885 from the data subset that meets the requirements of this section. In other words, starting with an author of publication ID 22720d75b8c73afd3bf4917fd5512dcc11e19885, this author graph should contain all of the author's co-authors as well as co-authors of each co-author.\n",
    "What do you find interesting about this graph?\n",
    "\n",
    "__Publication Graph:__\n",
    "Construct a publication graph based on publications associated with the author graph above. This publication graph will be incomplete, because you are working with only the data subset that meets the requirements of this section. You don't need to retrieve publication data beyond the subset you're required to work with .\n",
    "What do you find interesting about this graph?\n",
    "\n",
    "__Other Data Stories:__\n",
    "Please feel free to implement one idea that tells an interesting data story using Semantic Scholar Open Research Corpus.\n",
    "\n",
    "__Scalability:__\n",
    "How scalable is your solution?\n",
    "_______________________________________________________________________"
   ]
  },
  {
   "cell_type": "markdown",
   "metadata": {},
   "source": [
    "The following code is structured as follows:\n",
    "\n",
    "- First, a class is definied which containes methods for various applications. These methods are for uploading data, query on various data fields (specifically, publication ID's and author ID's), network analysis, and data visualization.\n",
    "\n",
    "- Second, the methods are implemented on a sample data set.\n",
    "\n",
    "- Finally, some insights about the data are provided"
   ]
  },
  {
   "cell_type": "code",
   "execution_count": 1,
   "metadata": {},
   "outputs": [],
   "source": [
    "import pandas as pd\n",
    "import numpy as np\n",
    "import json\n",
    "import matplotlib\n",
    "import matplotlib.pyplot as plt\n",
    "from itertools import chain\n",
    "import itertools\n",
    "import networkx as nx\n",
    "import glob"
   ]
  },
  {
   "cell_type": "markdown",
   "metadata": {},
   "source": [
    "__Uploading data stored in local drive.__ One could alternatively work on cloud data without downloading and locally storing them. However, for the scale of this problem, this method is sufficient and optimum:"
   ]
  },
  {
   "cell_type": "code",
   "execution_count": 2,
   "metadata": {},
   "outputs": [
    {
     "name": "stdout",
     "output_type": "stream",
     "text": [
      "['/home/somayeh/Documents/Georgetown_CSET_assignment/s2_s2-corpus-04.json', '/home/somayeh/Documents/Georgetown_CSET_assignment/s2_s2-corpus-06.json']\n"
     ]
    }
   ],
   "source": [
    "#Change the following line to the folder location where the file is stored\n",
    "drct = '/home/somayeh/Documents/Georgetown_CSET_assignment/'\n",
    "names = glob.glob(drct+'*.json')\n",
    "print(names)"
   ]
  },
  {
   "cell_type": "markdown",
   "metadata": {},
   "source": [
    "__Defining the class which contains methods for data analysis and visualization:__"
   ]
  },
  {
   "cell_type": "code",
   "execution_count": 3,
   "metadata": {},
   "outputs": [],
   "source": [
    "# The class \"Corpus_Graph_object\" is defined to incorporate methods used for graph analysis. \n",
    "\n",
    "class Corpus_Graph_object:\n",
    "    \n",
    "    def __init__(self, corpusFile, val):\n",
    "        self.corpusFile = corpusFile\n",
    "        self.val1 = val+1\n",
    "        self.val2 = val+2\n",
    "        self.val3 = val+3\n",
    "        self.val4 = val+4\n",
    "        self.val5 = val+5\n",
    "        self.val6 = val+6\n",
    "    \n",
    "    # This method loads the data file (which is stored as .json), and returns a \n",
    "    # pandas.DataFrame which contains all Publication_ID's in each row, and Author_ID\n",
    "    # associated with each publication.\n",
    "    def data_load(self):\n",
    "        file = self.corpusFile\n",
    "        sample_size = sum(1 for line in open(file))\n",
    "        index = range(0,sample_size)\n",
    "        df = pd.DataFrame(index=index)\n",
    "        with open(file) as fn:  \n",
    "            lncnt = 0\n",
    "            ID=[]; Author_ID = []\n",
    "            while ((lncnt<sample_size)):  \n",
    "                ln = fn.readline()\n",
    "                lncnt += 1\n",
    "                d = json.loads(ln)\n",
    "                ID.append(d['id'])\n",
    "                authorID=[]\n",
    "                for i in range(0,len(d['authors'])):\n",
    "                    authorID.append (''.join(d['authors'][i]['ids']))\n",
    "                Author_ID.append(authorID)    \n",
    "        df['Publication_ID'] = ID    \n",
    "        df['Authors_ID'] = Author_ID\n",
    "        return(df)\n",
    "    \n",
    "    # Method to find all unique author ID's for the DataFrame['Authors_ID'] column. \n",
    "    def unique_authors(self, df):\n",
    "        unique_authors = list(chain.from_iterable(DF['Authors_ID']))\n",
    "        return(unique_authors)\n",
    "    \n",
    "    def unique_coauthors(self, DF):\n",
    "        it_all = []\n",
    "        for i in range(0,len(DF)):\n",
    "            if not DF['Authors_ID'][i]==[]:\n",
    "                it_all.append(list(itertools.combinations(DF['Authors_ID'][i], 2)))\n",
    "        unique_coauthors = set(chain.from_iterable(it_all))\n",
    "        return(unique_coauthors)\n",
    "\n",
    "\n",
    "    # Uses Networkx to build coauthorship network. Nodes are authors. Edges are assigned \n",
    "    # between nodes if they have a coauthored publication.\n",
    "    def Author_network(self, Authors, Links):\n",
    "        G = nx.Graph()  # initiate a graph\n",
    "        G.add_nodes_from(list(Authors)) # add nodes to the graph. Here, the nodes are the unique authors\n",
    "        G.add_edges_from(Links) # adding edge based on coauthorship\n",
    "        return(G)\n",
    "    \n",
    "    # Finds clusters of connected authors in Authorship network G.\n",
    "    def connected_components_sizes(self, G):\n",
    "        A=list(nx.connected_components(G))\n",
    "        N=[]\n",
    "        for i in range(len(A)):\n",
    "            N.append(len(list(A[i])))\n",
    "        return(N)    \n",
    "    \n",
    "    # Finds the \"two-neighbor\" graph for each node (as defined in the description of the assignment.)\n",
    "    def two_neighbors(self, G, node):\n",
    "        neighbors_1 = [n for n in G.neighbors(node)]\n",
    "        neighbors_2 = []\n",
    "        for i in range(len(neighbors_1)):\n",
    "            neighbors_2.append([n for n in G.neighbors(neighbors_1[i])])\n",
    "        neighbors_2 = [y for x in neighbors_2 for y in x]\n",
    "        two_neighbors = set(neighbors_1+neighbors_2)\n",
    "        return(neighbors_1,neighbors_2,two_neighbors)\n",
    "    \n",
    "    # This method takes a list of authors (authors0), and outputs a list of tuples which represent all\n",
    "    # unique collaborations that all the list members have.\n",
    "    def neighbors_graph(self, DF, unique_coauthors, authors0):\n",
    "        it0 = list(itertools.combinations(authors0, 2))\n",
    "        it1 = []\n",
    "        for i in range(0,len(authors0)):\n",
    "            it1.append([item for item in unique_coauthors if authors0[i] in item])\n",
    "        it1 = list(chain.from_iterable(it1))   \n",
    "        return(it1)\n",
    "    \n",
    "    # This method craetes a list of publications based on coauthorship\n",
    "    def publications_graph(self, DF, node):\n",
    "        indexs0 = int(DF[DF['Publication_ID']==node].index.values)\n",
    "        authors0 = DF['Authors_ID'][indexs0]    \n",
    "        data = DF['Authors_ID']\n",
    "        Pub_IDs = []\n",
    "        for i in range(len(DF)):\n",
    "            if len([x for x in authors0 if x in data[i]])>0:\n",
    "                Pub_IDs.append(DF['Publication_ID'][i])\n",
    "        return(Pub_IDs)"
   ]
  },
  {
   "cell_type": "markdown",
   "metadata": {},
   "source": [
    "__Creating Class object \"corpus\":__"
   ]
  },
  {
   "cell_type": "code",
   "execution_count": 4,
   "metadata": {},
   "outputs": [],
   "source": [
    "# define object corpus\n",
    "corpus = Corpus_Graph_object(names[0], 1)\n",
    "corpus2= Corpus_Graph_object(names[1], 2)"
   ]
  },
  {
   "cell_type": "code",
   "execution_count": 5,
   "metadata": {},
   "outputs": [],
   "source": [
    "# Reading corpus files and storing the Publication and Authors ID in pandas DataFrames.\n",
    "DF1 = corpus.data_load() \n",
    "DF2 = corpus2.data_load() \n",
    "\n",
    "# Merging the databases from \"s2_s2-corpus-06\" and \"s2_s2-corpus-04\" to create a single DataFrame\n",
    "DF = pd.concat([DF1,DF2])\n",
    "DF.index = range(0, len(DF.index))\n",
    "\n",
    "del(DF1, DF2, corpus2)\n",
    "# saves the DataFrame as .pickle file\n",
    "#DF.to_pickle(names[0]+names[1]'.pickle')"
   ]
  },
  {
   "cell_type": "code",
   "execution_count": 6,
   "metadata": {},
   "outputs": [
    {
     "name": "stdout",
     "output_type": "stream",
     "text": [
      "2000000\n"
     ]
    },
    {
     "data": {
      "text/html": [
       "<div>\n",
       "<style scoped>\n",
       "    .dataframe tbody tr th:only-of-type {\n",
       "        vertical-align: middle;\n",
       "    }\n",
       "\n",
       "    .dataframe tbody tr th {\n",
       "        vertical-align: top;\n",
       "    }\n",
       "\n",
       "    .dataframe thead th {\n",
       "        text-align: right;\n",
       "    }\n",
       "</style>\n",
       "<table border=\"1\" class=\"dataframe\">\n",
       "  <thead>\n",
       "    <tr style=\"text-align: right;\">\n",
       "      <th></th>\n",
       "      <th>Publication_ID</th>\n",
       "      <th>Authors_ID</th>\n",
       "    </tr>\n",
       "  </thead>\n",
       "  <tbody>\n",
       "    <tr>\n",
       "      <th>0</th>\n",
       "      <td>6e338f498db8188143a13122f7e28dbcd3f9c4b5</td>\n",
       "      <td>[]</td>\n",
       "    </tr>\n",
       "    <tr>\n",
       "      <th>1</th>\n",
       "      <td>cebafb82d29a69e45a781025dac8e253459295ab</td>\n",
       "      <td>[30027983, 1930341, 5023784]</td>\n",
       "    </tr>\n",
       "    <tr>\n",
       "      <th>2</th>\n",
       "      <td>73542bcb451246bbf6d8ae553b883abf33afdc07</td>\n",
       "      <td>[37738470]</td>\n",
       "    </tr>\n",
       "    <tr>\n",
       "      <th>3</th>\n",
       "      <td>8abba829740252c8c842ff159c9835a96fd97035</td>\n",
       "      <td>[4999586]</td>\n",
       "    </tr>\n",
       "    <tr>\n",
       "      <th>4</th>\n",
       "      <td>10b63603fe7e4ba0737d8acb59a0a6b7d8901788</td>\n",
       "      <td>[39292995, 1698907, 37067093, 31062003]</td>\n",
       "    </tr>\n",
       "  </tbody>\n",
       "</table>\n",
       "</div>"
      ],
      "text/plain": [
       "                             Publication_ID  \\\n",
       "0  6e338f498db8188143a13122f7e28dbcd3f9c4b5   \n",
       "1  cebafb82d29a69e45a781025dac8e253459295ab   \n",
       "2  73542bcb451246bbf6d8ae553b883abf33afdc07   \n",
       "3  8abba829740252c8c842ff159c9835a96fd97035   \n",
       "4  10b63603fe7e4ba0737d8acb59a0a6b7d8901788   \n",
       "\n",
       "                                Authors_ID  \n",
       "0                                       []  \n",
       "1             [30027983, 1930341, 5023784]  \n",
       "2                               [37738470]  \n",
       "3                                [4999586]  \n",
       "4  [39292995, 1698907, 37067093, 31062003]  "
      ]
     },
     "execution_count": 6,
     "metadata": {},
     "output_type": "execute_result"
    }
   ],
   "source": [
    "# Sanity Check: Let's check how Authors-Publications DataFrame looks like:\n",
    "print(len(DF))  # Expected to have 2000000 rows\n",
    "DF.head()   # view of data table structure\n"
   ]
  },
  {
   "cell_type": "markdown",
   "metadata": {},
   "source": [
    "__Creating Author Graph from the initial assigned node:__"
   ]
  },
  {
   "cell_type": "markdown",
   "metadata": {},
   "source": [
    "Checking if the start ID (provided in assignment explanation) is within the data:"
   ]
  },
  {
   "cell_type": "code",
   "execution_count": 7,
   "metadata": {},
   "outputs": [
    {
     "data": {
      "text/html": [
       "<div>\n",
       "<style scoped>\n",
       "    .dataframe tbody tr th:only-of-type {\n",
       "        vertical-align: middle;\n",
       "    }\n",
       "\n",
       "    .dataframe tbody tr th {\n",
       "        vertical-align: top;\n",
       "    }\n",
       "\n",
       "    .dataframe thead th {\n",
       "        text-align: right;\n",
       "    }\n",
       "</style>\n",
       "<table border=\"1\" class=\"dataframe\">\n",
       "  <thead>\n",
       "    <tr style=\"text-align: right;\">\n",
       "      <th></th>\n",
       "      <th>Publication_ID</th>\n",
       "      <th>Authors_ID</th>\n",
       "    </tr>\n",
       "  </thead>\n",
       "  <tbody>\n",
       "    <tr>\n",
       "      <th>914568</th>\n",
       "      <td>22720d75b8c73afd3bf4917fd5512dcc11e19885</td>\n",
       "      <td>[1755139, 1765923]</td>\n",
       "    </tr>\n",
       "  </tbody>\n",
       "</table>\n",
       "</div>"
      ],
      "text/plain": [
       "                                  Publication_ID          Authors_ID\n",
       "914568  22720d75b8c73afd3bf4917fd5512dcc11e19885  [1755139, 1765923]"
      ]
     },
     "execution_count": 7,
     "metadata": {},
     "output_type": "execute_result"
    }
   ],
   "source": [
    "start_ID =\"22720d75b8c73afd3bf4917fd5512dcc11e19885\"\n",
    "\n",
    "DF[DF['Publication_ID']==start_ID]"
   ]
  },
  {
   "cell_type": "markdown",
   "metadata": {},
   "source": [
    "Creating a list of all collaborations (not necessary, but could be stored for scaling the problem if additional graph inqueries are needed.):"
   ]
  },
  {
   "cell_type": "code",
   "execution_count": 8,
   "metadata": {},
   "outputs": [],
   "source": [
    "unique_coauthors = corpus.unique_coauthors(DF)  # list of unique collaborations (stored as a set of tuples.)"
   ]
  },
  {
   "cell_type": "markdown",
   "metadata": {},
   "source": [
    "Now, starting with the assigned start_ID, I call the defined method _neighbors_graph_ in corpus object to list all of the collaborating nodes:"
   ]
  },
  {
   "cell_type": "code",
   "execution_count": 9,
   "metadata": {},
   "outputs": [],
   "source": [
    "start_ID =\"22720d75b8c73afd3bf4917fd5512dcc11e19885\"\n",
    "indexs0 = int(DF[DF['Publication_ID']==start_ID].index.values)\n",
    "authors0 = DF['Authors_ID'][indexs0]\n",
    "\n",
    "node = start_ID\n",
    "it1 = corpus.neighbors_graph(DF, unique_coauthors, authors0) # list of all first_neighbor colalborations.\n",
    "authors1 = set(chain.from_iterable(it1))   # unique nodes within the first_neighbor collaboration netwok\n",
    "#print(unique_first_coauthors)\n",
    "\n",
    "it2 = corpus.neighbors_graph(DF, unique_coauthors, list(authors1)[1:])  # list of all second_neighbor collaborations.\n",
    "authors2 = set(chain.from_iterable(it2))   # unique nodes within the first_neighbor collaboration netwok\n",
    "\n",
    "sub_authors = list(set.union(authors1,authors2))  # combination of authors set for 1st and 2nd neighbos. \n",
    "sub_links = list(it1+it2)\n"
   ]
  },
  {
   "cell_type": "markdown",
   "metadata": {},
   "source": [
    "Now that we have all the authors list within distance=2, we can generate the graph using collaboration lists. \n",
    "\n",
    "__Network Analysis:__ Here, I have used Python-based library _Networkx_ to create the collaboration network. There are other options like _igraph_ which is much faster (and more efficient if we are dealing with larger data). However, for the purpose of this problem, Networkx is sufficient enough and more user-friendly.\n",
    "\n",
    "In the following block, I call a method defined in class object to create the graph __G__ (the authorship network). Note that the nodes of G are the unique authors (extracted from the entire database). If two authors share a publication, there is a link (edge) between two nodes associated with the two authors.\n",
    "A more complex version of this network could incorporate \"weighted edges\", where each edge strength is associated with frequency of coauthorship. However, for the pupose of this assignment, each link shows the existence of at least on coauthored publication."
   ]
  },
  {
   "cell_type": "code",
   "execution_count": 10,
   "metadata": {},
   "outputs": [
    {
     "name": "stdout",
     "output_type": "stream",
     "text": [
      "Name: \n",
      "Type: Graph\n",
      "Number of nodes: 727\n",
      "Number of edges: 931\n",
      "Average degree:   2.5612\n",
      "Average Clustering:  0.1885390124178123\n",
      "Connected Components:  [727]\n"
     ]
    }
   ],
   "source": [
    "G = corpus.Author_network(sub_authors, sub_links)\n",
    "print(nx.info(G))\n",
    "print(\"Average Clustering: \" , nx.average_clustering(G))\n",
    "N = corpus.connected_components_sizes(G)\n",
    "print(\"Connected Components: \" , N)"
   ]
  },
  {
   "cell_type": "markdown",
   "metadata": {},
   "source": [
    "Above, a few properties of the graph network is provided"
   ]
  },
  {
   "cell_type": "markdown",
   "metadata": {},
   "source": [
    "We can now draw the graph of two-neighbor we just constructed. A function is defined below for better visalization purpose:"
   ]
  },
  {
   "cell_type": "code",
   "execution_count": 11,
   "metadata": {},
   "outputs": [],
   "source": [
    "# Function which takes a network and plots it using Networkx\n",
    "def draw_graph(G):\n",
    "    pos=nx.spring_layout(G) # positions for all nodes\n",
    "    # nodes\n",
    "    nx.draw_networkx_nodes(G,pos, node_color='r',node_size=5,alpha=0.4)\n",
    "    #edges\n",
    "    nx.draw_networkx_edges(G,pos,width=1.0,alpha=0.9)"
   ]
  },
  {
   "cell_type": "markdown",
   "metadata": {},
   "source": [
    "The plotted graph (below) shows interesting clustering of nodes. There are few nodes that several coauthorship has emerged."
   ]
  },
  {
   "cell_type": "code",
   "execution_count": 12,
   "metadata": {},
   "outputs": [
    {
     "name": "stderr",
     "output_type": "stream",
     "text": [
      "/usr/local/lib/python3.6/dist-packages/networkx/drawing/nx_pylab.py:611: MatplotlibDeprecationWarning: isinstance(..., numbers.Number)\n",
      "  if cb.is_numlike(alpha):\n"
     ]
    },
    {
     "data": {
      "image/png": "[encoded data removed]",
      "text/plain": [
       "<Figure size 432x288 with 1 Axes>"
      ]
     },
     "metadata": {
      "needs_background": "light"
     },
     "output_type": "display_data"
    }
   ],
   "source": [
    "draw_graph(G)"
   ]
  },
  {
   "cell_type": "markdown",
   "metadata": {},
   "source": [
    "The interesting thing about this graph is that there are several subgraph structures. In other words, the graph is clustered around a few \"highly collaborative clusters\". These clusters _could_ signify a single lab or research group, where people work and publish together.\n"
   ]
  },
  {
   "cell_type": "code",
   "execution_count": 13,
   "metadata": {},
   "outputs": [],
   "source": [
    "# degrees = []\n",
    "# for i in range(len(list(G.nodes()))):\n",
    "#     degrees.append(G.degree()[list(G.nodes())[i]] )"
   ]
  },
  {
   "cell_type": "code",
   "execution_count": 13,
   "metadata": {},
   "outputs": [
    {
     "data": {
      "text/plain": [
       "2618"
      ]
     },
     "execution_count": 13,
     "metadata": {},
     "output_type": "execute_result"
    }
   ],
   "source": [
    "del(G)\n",
    "import gc\n",
    "gc.collect()"
   ]
  },
  {
   "cell_type": "code",
   "execution_count": null,
   "metadata": {},
   "outputs": [],
   "source": []
  },
  {
   "cell_type": "markdown",
   "metadata": {},
   "source": [
    "__Publication Graph:__\n",
    " In the next step, I cunstruct the Publication graph. For this purpose, I first find the list of publications (nodes) for the first and second neighborhood based on coauthorship. Then I construct the network using _Networkx_ similar to previous section."
   ]
  },
  {
   "cell_type": "code",
   "execution_count": null,
   "metadata": {},
   "outputs": [],
   "source": [
    "# creating list of all first-neighbor and second-neighbor publications starting from\n",
    "# node \"22720d75b8c73afd3bf4917fd5512dcc11e19885\". Here, I have used \"sub_authors\" found before for faster computation\n",
    "start_ID =\"22720d75b8c73afd3bf4917fd5512dcc11e19885\"\n",
    "\n",
    "Pub_IDs = []\n",
    "for j in range(0,len(DF)):\n",
    "    if len([x for x in sub_authors if x in DF['Authors_ID'][j]])>0:\n",
    "            Pub_IDs.append(DF['Publication_ID'][j])"
   ]
  },
  {
   "cell_type": "code",
   "execution_count": 41,
   "metadata": {
    "collapsed": true
   },
   "outputs": [
    {
     "ename": "KeyboardInterrupt",
     "evalue": "",
     "output_type": "error",
     "traceback": [
      "\u001b[0;31m---------------------------------------------------------------------------\u001b[0m",
      "\u001b[0;31mKeyboardInterrupt\u001b[0m                         Traceback (most recent call last)",
      "\u001b[0;32m<ipython-input-41-71e35f1dd497>\u001b[0m in \u001b[0;36m<module>\u001b[0;34m\u001b[0m\n\u001b[1;32m      6\u001b[0m     \u001b[0mindexs1\u001b[0m \u001b[0;34m=\u001b[0m \u001b[0mint\u001b[0m\u001b[0;34m(\u001b[0m\u001b[0mDF\u001b[0m\u001b[0;34m[\u001b[0m\u001b[0mDF\u001b[0m\u001b[0;34m[\u001b[0m\u001b[0;34m'Publication_ID'\u001b[0m\u001b[0;34m]\u001b[0m\u001b[0;34m==\u001b[0m\u001b[0mpb\u001b[0m\u001b[0;34m[\u001b[0m\u001b[0;36m0\u001b[0m\u001b[0;34m]\u001b[0m\u001b[0;34m]\u001b[0m\u001b[0;34m.\u001b[0m\u001b[0mindex\u001b[0m\u001b[0;34m.\u001b[0m\u001b[0mvalues\u001b[0m\u001b[0;34m)\u001b[0m\u001b[0;34m\u001b[0m\u001b[0;34m\u001b[0m\u001b[0m\n\u001b[1;32m      7\u001b[0m     \u001b[0mauthors1\u001b[0m \u001b[0;34m=\u001b[0m \u001b[0mDF\u001b[0m\u001b[0;34m[\u001b[0m\u001b[0;34m'Authors_ID'\u001b[0m\u001b[0;34m]\u001b[0m\u001b[0;34m[\u001b[0m\u001b[0mindexs1\u001b[0m\u001b[0;34m]\u001b[0m\u001b[0;34m\u001b[0m\u001b[0;34m\u001b[0m\u001b[0m\n\u001b[0;32m----> 8\u001b[0;31m     \u001b[0mindexs2\u001b[0m \u001b[0;34m=\u001b[0m \u001b[0mint\u001b[0m\u001b[0;34m(\u001b[0m\u001b[0mDF\u001b[0m\u001b[0;34m[\u001b[0m\u001b[0mDF\u001b[0m\u001b[0;34m[\u001b[0m\u001b[0;34m'Publication_ID'\u001b[0m\u001b[0;34m]\u001b[0m\u001b[0;34m==\u001b[0m\u001b[0mpb\u001b[0m\u001b[0;34m[\u001b[0m\u001b[0;36m1\u001b[0m\u001b[0;34m]\u001b[0m\u001b[0;34m]\u001b[0m\u001b[0;34m.\u001b[0m\u001b[0mindex\u001b[0m\u001b[0;34m.\u001b[0m\u001b[0mvalues\u001b[0m\u001b[0;34m)\u001b[0m\u001b[0;34m\u001b[0m\u001b[0;34m\u001b[0m\u001b[0m\n\u001b[0m\u001b[1;32m      9\u001b[0m     \u001b[0mauthors2\u001b[0m \u001b[0;34m=\u001b[0m \u001b[0mDF\u001b[0m\u001b[0;34m[\u001b[0m\u001b[0;34m'Authors_ID'\u001b[0m\u001b[0;34m]\u001b[0m\u001b[0;34m[\u001b[0m\u001b[0mindexs2\u001b[0m\u001b[0;34m]\u001b[0m\u001b[0;34m\u001b[0m\u001b[0;34m\u001b[0m\u001b[0m\n\u001b[1;32m     10\u001b[0m \u001b[0;34m\u001b[0m\u001b[0m\n",
      "\u001b[0;32m/usr/local/lib/python3.6/dist-packages/pandas/core/ops.py\u001b[0m in \u001b[0;36mwrapper\u001b[0;34m(self, other, axis)\u001b[0m\n\u001b[1;32m   1764\u001b[0m \u001b[0;34m\u001b[0m\u001b[0m\n\u001b[1;32m   1765\u001b[0m             \u001b[0;32mwith\u001b[0m \u001b[0mnp\u001b[0m\u001b[0;34m.\u001b[0m\u001b[0merrstate\u001b[0m\u001b[0;34m(\u001b[0m\u001b[0mall\u001b[0m\u001b[0;34m=\u001b[0m\u001b[0;34m'ignore'\u001b[0m\u001b[0;34m)\u001b[0m\u001b[0;34m:\u001b[0m\u001b[0;34m\u001b[0m\u001b[0;34m\u001b[0m\u001b[0m\n\u001b[0;32m-> 1766\u001b[0;31m                 \u001b[0mres\u001b[0m \u001b[0;34m=\u001b[0m \u001b[0mna_op\u001b[0m\u001b[0;34m(\u001b[0m\u001b[0mvalues\u001b[0m\u001b[0;34m,\u001b[0m \u001b[0mother\u001b[0m\u001b[0;34m)\u001b[0m\u001b[0;34m\u001b[0m\u001b[0;34m\u001b[0m\u001b[0m\n\u001b[0m\u001b[1;32m   1767\u001b[0m             \u001b[0;32mif\u001b[0m \u001b[0mis_scalar\u001b[0m\u001b[0;34m(\u001b[0m\u001b[0mres\u001b[0m\u001b[0;34m)\u001b[0m\u001b[0;34m:\u001b[0m\u001b[0;34m\u001b[0m\u001b[0;34m\u001b[0m\u001b[0m\n\u001b[1;32m   1768\u001b[0m                 raise TypeError('Could not compare {typ} type with Series'\n",
      "\u001b[0;32m/usr/local/lib/python3.6/dist-packages/pandas/core/ops.py\u001b[0m in \u001b[0;36mna_op\u001b[0;34m(x, y)\u001b[0m\n\u001b[1;32m   1623\u001b[0m \u001b[0;34m\u001b[0m\u001b[0m\n\u001b[1;32m   1624\u001b[0m         \u001b[0;32mif\u001b[0m \u001b[0mis_object_dtype\u001b[0m\u001b[0;34m(\u001b[0m\u001b[0mx\u001b[0m\u001b[0;34m.\u001b[0m\u001b[0mdtype\u001b[0m\u001b[0;34m)\u001b[0m\u001b[0;34m:\u001b[0m\u001b[0;34m\u001b[0m\u001b[0;34m\u001b[0m\u001b[0m\n\u001b[0;32m-> 1625\u001b[0;31m             \u001b[0mresult\u001b[0m \u001b[0;34m=\u001b[0m \u001b[0m_comp_method_OBJECT_ARRAY\u001b[0m\u001b[0;34m(\u001b[0m\u001b[0mop\u001b[0m\u001b[0;34m,\u001b[0m \u001b[0mx\u001b[0m\u001b[0;34m,\u001b[0m \u001b[0my\u001b[0m\u001b[0;34m)\u001b[0m\u001b[0;34m\u001b[0m\u001b[0;34m\u001b[0m\u001b[0m\n\u001b[0m\u001b[1;32m   1626\u001b[0m \u001b[0;34m\u001b[0m\u001b[0m\n\u001b[1;32m   1627\u001b[0m         \u001b[0;32melif\u001b[0m \u001b[0mis_datetimelike_v_numeric\u001b[0m\u001b[0;34m(\u001b[0m\u001b[0mx\u001b[0m\u001b[0;34m,\u001b[0m \u001b[0my\u001b[0m\u001b[0;34m)\u001b[0m\u001b[0;34m:\u001b[0m\u001b[0;34m\u001b[0m\u001b[0;34m\u001b[0m\u001b[0m\n",
      "\u001b[0;32m/usr/local/lib/python3.6/dist-packages/pandas/core/ops.py\u001b[0m in \u001b[0;36m_comp_method_OBJECT_ARRAY\u001b[0;34m(op, x, y)\u001b[0m\n\u001b[1;32m   1601\u001b[0m         \u001b[0mresult\u001b[0m \u001b[0;34m=\u001b[0m \u001b[0mlibops\u001b[0m\u001b[0;34m.\u001b[0m\u001b[0mvec_compare\u001b[0m\u001b[0;34m(\u001b[0m\u001b[0mx\u001b[0m\u001b[0;34m,\u001b[0m \u001b[0my\u001b[0m\u001b[0;34m,\u001b[0m \u001b[0mop\u001b[0m\u001b[0;34m)\u001b[0m\u001b[0;34m\u001b[0m\u001b[0;34m\u001b[0m\u001b[0m\n\u001b[1;32m   1602\u001b[0m     \u001b[0;32melse\u001b[0m\u001b[0;34m:\u001b[0m\u001b[0;34m\u001b[0m\u001b[0;34m\u001b[0m\u001b[0m\n\u001b[0;32m-> 1603\u001b[0;31m         \u001b[0mresult\u001b[0m \u001b[0;34m=\u001b[0m \u001b[0mlibops\u001b[0m\u001b[0;34m.\u001b[0m\u001b[0mscalar_compare\u001b[0m\u001b[0;34m(\u001b[0m\u001b[0mx\u001b[0m\u001b[0;34m,\u001b[0m \u001b[0my\u001b[0m\u001b[0;34m,\u001b[0m \u001b[0mop\u001b[0m\u001b[0;34m)\u001b[0m\u001b[0;34m\u001b[0m\u001b[0;34m\u001b[0m\u001b[0m\n\u001b[0m\u001b[1;32m   1604\u001b[0m     \u001b[0;32mreturn\u001b[0m \u001b[0mresult\u001b[0m\u001b[0;34m\u001b[0m\u001b[0;34m\u001b[0m\u001b[0m\n\u001b[1;32m   1605\u001b[0m \u001b[0;34m\u001b[0m\u001b[0m\n",
      "\u001b[0;31mKeyboardInterrupt\u001b[0m: "
     ]
    }
   ],
   "source": [
    "unique_publications = list(Pub_IDs)    \n",
    "all_pub_com = list(itertools.combinations(unique_publications, 2))\n",
    "unique_links = []\n",
    "for i in range(len(all_pub_com)):\n",
    "    pb = list(all_pub_com[i])\n",
    "    indexs1 = int(DF[DF['Publication_ID']==pb[0]].index.values)\n",
    "    authors1 = DF['Authors_ID'][indexs1]\n",
    "    indexs2 = int(DF[DF['Publication_ID']==pb[1]].index.values)\n",
    "    authors2 = DF['Authors_ID'][indexs2]\n",
    "    \n",
    "    if len([x for x in authors1 if x in authors2])>0:\n",
    "            unique_links.append(all_pub_com[i])   "
   ]
  },
  {
   "cell_type": "markdown",
   "metadata": {},
   "source": [
    "Now creating the Publication graph and plotting it:"
   ]
  },
  {
   "cell_type": "markdown",
   "metadata": {},
   "source": [
    "__NOTE: The algorithm above is not optimal for craeting Publication graph, and I had to work with a subset of nodes (about 10% of all nodes) to find publication links in time. Hence, the following Publications network is not complete.__"
   ]
  },
  {
   "cell_type": "code",
   "execution_count": 44,
   "metadata": {},
   "outputs": [
    {
     "data": {
      "image/png": "[encoded data removed]",
      "text/plain": [
       "<Figure size 432x288 with 1 Axes>"
      ]
     },
     "metadata": {
      "needs_background": "light"
     },
     "output_type": "display_data"
    }
   ],
   "source": [
    "# Publication grah .  NOTE: NOT COMPLETE!\n",
    "P = nx.Graph()\n",
    "P.add_nodes_from(list(unique_publications))\n",
    "P.add_edges_from(list(unique_links))\n",
    "\n",
    "draw_graph(P)"
   ]
  },
  {
   "cell_type": "markdown",
   "metadata": {},
   "source": [
    "__Other Data Stories:__\n",
    "An interesting analysis is to look at the trends in research based on year. For instance we can find the top 3 popular keyworks for a few consecutive years and see how this trend changes over time.\n",
    "\n",
    "A quicker check (for time restriction purposes) is to just analyze a few data entries. Here, I have used 1000 data points:\n",
    "\n",
    "__Note: This part is not completed due to time restrictions. However, the method is straightforward. The results give insight on _trend changes_ over time.__"
   ]
  },
  {
   "cell_type": "code",
   "execution_count": null,
   "metadata": {},
   "outputs": [],
   "source": [
    "# count_work returns the \"entities\" list, as well as publication year for a given .json file\n",
    "def count_word(file, sample_size):\n",
    "    with open(file) as fn:  \n",
    "        lncnt = 0\n",
    "        year=[]; entities = []\n",
    "        while ((lncnt<sample_size)):  \n",
    "            ln = fn.readline()\n",
    "            lncnt += 1\n",
    "            d = json.loads(ln)\n",
    "            year.append(d['year'])\n",
    "            entities.append(d['entities'])\n",
    "    return(year,entities)\n",
    "\n",
    "\n",
    "year,entities = count_word(names[0],sample_size = 1000)"
   ]
  },
  {
   "cell_type": "markdown",
   "metadata": {},
   "source": [
    "__A few ideas on analysis of Semantic Scholar Open Research Corpus data:__\n",
    "\n",
    "- We can create citation-based network (a directed graph) and find information about influence of certain topics on other topics. This analysis could be done by starting from a node and measuring the occurance of various keywords in certain distances from the node.\n",
    "\n",
    "- One study could be analyzing collaboration clustering and understanding what influences them. Is it the topic of research (keywords), geographical closeness (if we had information on the country/city where the authors are located), or \"influence\" of the authors (one could imagine that giants of a field collaborate/ not collaborate often). \n",
    "\n",
    "- Another idea is to look at the dynamics of collaborations in time. We can implement this by creating colalboration graphs for each year and see how it evolves chronically. This way, we can identify \"robust\" collaborations vs. \"temporary\" collaborations. It is also interesting to know that whether authors participating in \"long-term\" and robust collaborations contribute to \"significance\" of their scientific production or not."
   ]
  },
  {
   "cell_type": "markdown",
   "metadata": {},
   "source": [
    "__Scalability:__\n",
    "This is highly tied to the limits Networkx dictates in memory usage. Creating larger graphs is a problem if we want to analyze the network with this library. Alternative libraries such as graph-tool and igraph could be mplemented to avoid memory problems.\n",
    "\n",
    "Another change that I would make (If I waned to write over my solution!) is to use DataFrame indexes consistently for both Author and Publication problems. This way, I can cut downb on multiple searches I peformed independently for both problems, and potentially other queries in the .json file)"
   ]
  },
  {
   "cell_type": "code",
   "execution_count": null,
   "metadata": {},
   "outputs": [],
   "source": []
  }
 ],
 "metadata": {
  "kernelspec": {
   "display_name": "Python 3",
   "language": "python",
   "name": "python3"
  },
  "language_info": {
   "codemirror_mode": {
    "name": "ipython",
    "version": 3
   },
   "file_extension": ".py",
   "mimetype": "text/x-python",
   "name": "python",
   "nbconvert_exporter": "python",
   "pygments_lexer": "ipython3",
   "version": "3.6.7"
  }
 },
 "nbformat": 4,
 "nbformat_minor": 2
}
